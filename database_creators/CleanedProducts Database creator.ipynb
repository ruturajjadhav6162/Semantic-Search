{
 "cells": [
  {
   "cell_type": "markdown",
   "metadata": {},
   "source": [
    "## Imports"
   ]
  },
  {
   "cell_type": "code",
   "execution_count": 3,
   "metadata": {},
   "outputs": [],
   "source": [
    "import weaviate\n",
    "from weaviate.classes.config import DataType, Property, Configure"
   ]
  },
  {
   "cell_type": "code",
   "execution_count": 4,
   "metadata": {},
   "outputs": [
    {
     "name": "stdout",
     "output_type": "stream",
     "text": [
      "True\n"
     ]
    }
   ],
   "source": [
    "client = weaviate.connect_to_local()\n",
    "print(client.is_ready())"
   ]
  },
  {
   "cell_type": "markdown",
   "metadata": {},
   "source": [
    "## The fields are \n",
    "id\tgender\tmasterCategory\tsubCategory\tarticleType\tbaseColour\tseason\tyear\tusage\tproductDisplayName\tdescription\taverageRating numberOfRatings\tprice"
   ]
  },
  {
   "cell_type": "markdown",
   "metadata": {},
   "source": [
    "## Defining the collection / class / schema"
   ]
  },
  {
   "cell_type": "code",
   "execution_count": 5,
   "metadata": {},
   "outputs": [
    {
     "name": "stdout",
     "output_type": "stream",
     "text": [
      "True\n"
     ]
    }
   ],
   "source": [
    "print(client.collections.exists(\"CleanedProducts\"))"
   ]
  },
  {
   "cell_type": "code",
   "execution_count": 6,
   "metadata": {},
   "outputs": [
    {
     "name": "stderr",
     "output_type": "stream",
     "text": [
      "e:\\Projects\\Semantic_Search\\GenAI-SummerInternship\\venv\\Lib\\site-packages\\weaviate\\warnings.py:196: DeprecationWarning: Dep024: You are using the `vectorizer_config` argument in `collection.config.create()`, which is deprecated.\n",
      "            Use the `vector_config` argument instead.\n",
      "            \n",
      "  warnings.warn(\n"
     ]
    },
    {
     "data": {
      "text/plain": [
       "<weaviate.collections.collection.sync.Collection at 0x17643f4a3c0>"
      ]
     },
     "execution_count": 6,
     "metadata": {},
     "output_type": "execute_result"
    }
   ],
   "source": [
    "if client.collections.exists(\"CleanedProducts\"):\n",
    "    client.collections.delete(\"CleanedProducts\")\n",
    "\n",
    "\n",
    "client.collections.create(\n",
    "    name=\"CleanedProducts\",\n",
    "    properties=[\n",
    "        Property(name=\"productDisplayName\", data_type=DataType.TEXT), \n",
    "        Property(name=\"season\", data_type=DataType.TEXT),\n",
    "        Property(name=\"description\", data_type=DataType.TEXT),\n",
    "        Property(name=\"gender\", data_type=DataType.TEXT),\n",
    "        Property(name=\"masterCategory\", data_type=DataType.TEXT),\n",
    "        Property(name=\"subCategory\", data_type=DataType.TEXT),\n",
    "        Property(name=\"price\", data_type=DataType.TEXT),\n",
    "        Property(name=\"numberOfRatings\", data_type=DataType.INT),\n",
    "        Property(name=\"averageRating\", data_type=DataType.NUMBER),\n",
    "        Property(name=\"productId\", data_type=DataType.INT),\n",
    "        Property(name=\"articleType\", data_type=DataType.TEXT),\n",
    "        Property(name=\"baseColour\", data_type=DataType.TEXT),\n",
    "        Property(name=\"year\", data_type=DataType.INT),\n",
    "        Property(name=\"usage\", data_type=DataType.TEXT),\n",
    "    ],\n",
    "    vectorizer_config=[\n",
    "        # Set a named vector\n",
    "        Configure.NamedVectors.text2vec_transformers(  # Use the \"text2vec-cohere\" vectorizer\n",
    "            name=\"name_master_sub_art_col_use_seas_gender\", source_properties=[\"productDisplayName\",\"masterCategory\", \"subCategory\", \"articleType\", \"baseColour\", \"usage\", \"season\", 'gender']       # Set the source property(ies)\n",
    "        ),\n",
    "        # Configure.NamedVectors.text2vec_transformers(  # Use the \"text2vec-openai\" vectorizer\n",
    "        #     name=\"name_master_sub_col\", source_properties=[\"productDisplayName\",\"masterCategory\", \"subCategory\", \"baseColour\"] # Set the source property(ies)\n",
    "        # ),\n",
    "        # Configure.NamedVectors.text2vec_transformers(  # Use the \"text2vec-openai\" vectorizer\n",
    "        #     name= \"name_color_seas\", source_properties=[\"productDisplayName\", \"baseColour\", \"season\"] # Set the source property(ies)\n",
    "        # ),\n",
    "    ],\n",
    "    \n",
    ")"
   ]
  },
  {
   "cell_type": "markdown",
   "metadata": {},
   "source": [
    "## Importing and cleaning the data"
   ]
  },
  {
   "cell_type": "code",
   "execution_count": 7,
   "metadata": {},
   "outputs": [
    {
     "name": "stdout",
     "output_type": "stream",
     "text": [
      "productId             0\n",
      "gender                0\n",
      "masterCategory        0\n",
      "subCategory           0\n",
      "articleType           0\n",
      "baseColour            0\n",
      "season                0\n",
      "year                  0\n",
      "usage                 0\n",
      "productDisplayName    0\n",
      "description           0\n",
      "averageRating         0\n",
      "numberOfRatings       0\n",
      "price                 0\n",
      "dtype: int64\n",
      "[{'productId': 15970, 'gender': 'Men', 'masterCategory': 'Apparel', 'subCategory': 'Topwear', 'articleType': 'Shirts', 'baseColour': 'Navy Blue', 'season': 'Fall', 'year': 2011.0, 'usage': 'Casual', 'productDisplayName': 'Turtle Check Men Navy Blue Shirt', 'description': 'Turtle Check Men Navy Blue Shirt is a Navy Blue Shirts for Men in the Fall season.', 'averageRating': 3.2, 'numberOfRatings': 909, 'price': '₹ 999'}, {'productId': 39386, 'gender': 'Men', 'masterCategory': 'Apparel', 'subCategory': 'Bottomwear', 'articleType': 'Jeans', 'baseColour': 'Blue', 'season': 'Summer', 'year': 2012.0, 'usage': 'Casual', 'productDisplayName': 'Peter England Men Party Blue Jeans', 'description': 'Peter England Men Party Blue Jeans is a Blue Jeans for Men in the Summer season.', 'averageRating': 3.9, 'numberOfRatings': 613, 'price': '₹ 5999'}, {'productId': 59263, 'gender': 'Women', 'masterCategory': 'Accessories', 'subCategory': 'Watches', 'articleType': 'Watches', 'baseColour': 'Silver', 'season': 'Winter', 'year': 2016.0, 'usage': 'Casual', 'productDisplayName': 'Titan Women Silver Watch', 'description': 'Titan Women Silver Watch is a Silver Watches for Women in the Winter season.', 'averageRating': 3.4, 'numberOfRatings': 162, 'price': '₹ 7999'}, {'productId': 21379, 'gender': 'Men', 'masterCategory': 'Apparel', 'subCategory': 'Bottomwear', 'articleType': 'Track Pants', 'baseColour': 'Black', 'season': 'Fall', 'year': 2011.0, 'usage': 'Casual', 'productDisplayName': 'Manchester United Men Solid Black Track Pants', 'description': 'Manchester United Men Solid Black Track Pants is a Black Track Pants for Men in the Fall season.', 'averageRating': 3.2, 'numberOfRatings': 842, 'price': '₹ 3499'}, {'productId': 53759, 'gender': 'Men', 'masterCategory': 'Apparel', 'subCategory': 'Topwear', 'articleType': 'Tshirts', 'baseColour': 'Grey', 'season': 'Summer', 'year': 2012.0, 'usage': 'Casual', 'productDisplayName': 'Puma Men Grey T-shirt', 'description': 'Puma Men Grey T-shirt is a Grey Tshirts for Men in the Summer season.', 'averageRating': 2.7, 'numberOfRatings': 945, 'price': '₹ 4499'}]\n"
     ]
    }
   ],
   "source": [
    "import pandas as pd \n",
    "\n",
    "df = pd.read_csv(input(\"Enter the path to the csv file: \"))\n",
    "\n",
    "# include these fields id\tgender\tmasterCategory\tsubCategory\tarticleType\tbaseColour\tseason\tyear\tusage\tproductDisplayName\tdescription\taverageRating numberOfRatings\tprice\n",
    "df = df[['productId', 'gender', 'masterCategory', 'subCategory', 'articleType', 'baseColour', 'season', 'year', 'usage', 'productDisplayName', 'description', 'averageRating', 'numberOfRatings', 'price']]\n",
    "\n",
    "# print if na values are present\n",
    "print(df.isna().sum())\n",
    "\n",
    "# convert to dictionary\n",
    "df_dict = df.to_dict(orient='records')\n",
    "print(df_dict[:5])\n"
   ]
  },
  {
   "cell_type": "code",
   "execution_count": 8,
   "metadata": {},
   "outputs": [],
   "source": [
    "collection = client.collections.get(\"CleanedProducts\")"
   ]
  },
  {
   "cell_type": "code",
   "execution_count": 9,
   "metadata": {},
   "outputs": [
    {
     "name": "stdout",
     "output_type": "stream",
     "text": [
      "Inserting data from 0 to 1000\n",
      "Inserting data from 1000 to 2000\n",
      "Inserting data from 2000 to 3000\n",
      "Inserting data from 3000 to 4000\n",
      "Inserting data from 4000 to 5000\n",
      "Inserting data from 5000 to 6000\n",
      "Inserting data from 6000 to 7000\n",
      "Inserting data from 7000 to 8000\n",
      "Inserting data from 8000 to 9000\n",
      "Inserting data from 9000 to 10000\n",
      "Inserting data from 10000 to 11000\n",
      "Inserting data from 11000 to 12000\n",
      "Inserting data from 12000 to 13000\n",
      "Inserting data from 13000 to 14000\n",
      "Inserting data from 14000 to 15000\n",
      "Inserting data from 15000 to 16000\n",
      "Inserting data from 16000 to 17000\n"
     ]
    },
    {
     "name": "stderr",
     "output_type": "stream",
     "text": [
      "{'message': 'Failed to send 1 objects in a batch of 1000. Please inspect the errors variable of the returned object for more information.', 'errors': {583: ErrorObject(message=\"invalid integer property 'year' on class 'CleanedProducts': requires an integer, the given value is '2012.80649663463'\", object_=BatchObject(collection='CleanedProducts', properties={'productId': 53781, 'gender': 'Men', 'masterCategory': 'Apparel', 'subCategory': 'Topwear', 'articleType': 'Tshirts', 'baseColour': 'Blue', 'season': 'Unknown', 'year': 2012.80649663463, 'usage': 'Sports', 'productDisplayName': 'Puma Men Blue Sless Round Neck T-shirt', 'description': 'Puma Men Blue Sless Round Neck T-shirt is a Blue Tshirts for Men in the Unknown season.', 'averageRating': 4.4, 'numberOfRatings': 506, 'price': '₹ 1499'}, references=None, uuid='59894e68-debf-444b-8096-e9a1f1896fda', vector=None, tenant=None, index=583, retry_count=0), original_uuid='59894e68-debf-444b-8096-e9a1f1896fda')}}\n"
     ]
    },
    {
     "name": "stdout",
     "output_type": "stream",
     "text": [
      "Inserting data from 17000 to 18000\n",
      "Inserting data from 18000 to 19000\n",
      "Inserting data from 19000 to 20000\n",
      "Inserting data from 20000 to 21000\n",
      "Inserting data from 21000 to 22000\n",
      "Inserting data from 22000 to 23000\n",
      "Inserting data from 23000 to 24000\n",
      "Inserting data from 24000 to 25000\n",
      "Inserting data from 25000 to 26000\n",
      "Inserting data from 26000 to 27000\n",
      "Inserting data from 27000 to 28000\n",
      "Inserting data from 28000 to 29000\n",
      "Inserting data from 29000 to 30000\n",
      "Inserting data from 30000 to 31000\n",
      "Inserting data from 31000 to 32000\n",
      "Data Inserted Successfully!\n"
     ]
    }
   ],
   "source": [
    "# write a function to insert data in batches of 1000, the dataset has about 31000 rows\n",
    "def insert_data(data):\n",
    "    try: \n",
    "        for i in range(0, len(data), 1000):\n",
    "            print(f\"Inserting data from {i} to {i+1000}\")\n",
    "            collection.data.insert_many(data[i:i+1000])\n",
    "    except Exception as e:\n",
    "        print(e)\n",
    "    finally:\n",
    "        print(\"Data Inserted Successfully!\")\n",
    "\n",
    "insert_data(df_dict)\n"
   ]
  },
  {
   "cell_type": "code",
   "execution_count": null,
   "metadata": {},
   "outputs": [
    {
     "name": "stdout",
     "output_type": "stream",
     "text": [
      "{'usage': 'Casual', 'averageRating': 4.8, 'year': 2012, 'subCategory': 'Dress', 'productId': 58439, 'season': 'Summer', 'productDisplayName': 'AND by Anita Dongre Women Black Dress', 'masterCategory': 'Apparel', 'articleType': 'Dresses', 'gender': 'Women', 'description': 'AND by Anita Dongre Women Black Dress is a Black Dresses for Women in the Summer season.', 'numberOfRatings': 679, 'baseColour': 'Black', 'price': '₹ 1999'}\n"
     ]
    }
   ],
   "source": [
    "from weaviate.classes.query import MetadataQuery\n",
    "\n",
    "response = collection.query.near_text(\n",
    "    query = \"black dress\",\n",
    "    limit = 10,\n",
    "    target_vector = \"name_master_sub_art_col_use_seas_gender\",\n",
    "    return_metadata=MetadataQuery(distance=True)\n",
    ")\n",
    "print(response.objects[0].properties) "
   ]
  }
 ],
 "metadata": {
  "kernelspec": {
   "display_name": "venv",
   "language": "python",
   "name": "python3"
  },
  "language_info": {
   "codemirror_mode": {
    "name": "ipython",
    "version": 3
   },
   "file_extension": ".py",
   "mimetype": "text/x-python",
   "name": "python",
   "nbconvert_exporter": "python",
   "pygments_lexer": "ipython3",
   "version": "3.13.5"
  }
 },
 "nbformat": 4,
 "nbformat_minor": 2
}
